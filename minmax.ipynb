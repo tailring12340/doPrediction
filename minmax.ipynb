{
 "cells": [
  {
   "cell_type": "markdown",
   "metadata": {},
   "source": [
    "라이브러리"
   ]
  },
  {
   "cell_type": "code",
   "execution_count": 8,
   "metadata": {},
   "outputs": [],
   "source": [
    "import pandas as pd\n",
    "import numpy as np\n",
    "from keras.utils import *\n",
    "from keras.layers import LSTM, Dense, TimeDistributed\n",
    "from keras.models import Sequential\n",
    "from keras.callbacks import ModelCheckpoint, EarlyStopping, ReduceLROnPlateau\n",
    "from sklearn.preprocessing import *\n",
    "from keras.losses import Huber\n",
    "from sklearn.preprocessing import MinMaxScaler\n",
    "\n",
    "model_name = 'model/Aqua_all_minmax'"
   ]
  },
  {
   "cell_type": "code",
   "execution_count": 10,
   "metadata": {},
   "outputs": [],
   "source": [
    "japonica_training = pd.DataFrame()\n",
    "japonica_validation = pd.DataFrame()\n",
    "for i in range(5):\n",
    "    tank = i + 1\n",
    "    japonica_training_food_supply_tb = pd.read_csv(\"E:/kimwoojae/Research/DO Regressor/dataset/japonica_training_food_supply_tb.csv\")\n",
    "    japonica_training_sensor_val_tb = pd.read_csv(\"E:/kimwoojae/Research/DO Regressor/dataset/japonica_training_sensor_val_tb.csv\")\n",
    "    japonica_validation_food_supply_tb = pd.read_csv(\"E:/kimwoojae/Research/DO Regressor/dataset/japonica_validation_food_supply_tb.csv\")\n",
    "    japonica_validation_sensor_val_tb = pd.read_csv(\"E:/kimwoojae/Research/DO Regressor/dataset/japonica_validation_sensor_val_tb.csv\")\n",
    "    japonica_training_food_supply_tb = japonica_training_food_supply_tb[japonica_training_food_supply_tb['tank_id']==tank]\n",
    "    japonica_validation_food_supply_tb = japonica_validation_food_supply_tb[japonica_validation_food_supply_tb['tank_id']==tank]\n",
    "    japonica_training_food_supply_tb = japonica_training_food_supply_tb[japonica_training_food_supply_tb['feed_quantity'].notnull()]\n",
    "    japonica_validation_food_supply_tb = japonica_validation_food_supply_tb[japonica_validation_food_supply_tb['feed_quantity'].notnull()]\n",
    "    japonica_training_food_supply_tb['feed_dt'] = pd.to_datetime(japonica_training_food_supply_tb['feed_dt'], format='%Y%m%d%H%M', errors='raise')\n",
    "    japonica_training_food_supply_tb[\"feed_dt\"] = japonica_training_food_supply_tb[\"feed_dt\"].apply(str)\n",
    "    japonica_training_food_supply_tb[\"feed_dt\"] = japonica_training_food_supply_tb[\"feed_dt\"].str.slice(start=0, stop=16)\n",
    "    japonica_validation_food_supply_tb['feed_dt'] = pd.to_datetime(japonica_validation_food_supply_tb['feed_dt'], format='%Y%m%d%H%M', errors='raise')\n",
    "    japonica_validation_food_supply_tb[\"feed_dt\"] = japonica_validation_food_supply_tb[\"feed_dt\"].apply(str)\n",
    "    japonica_validation_food_supply_tb[\"feed_dt\"] = japonica_validation_food_supply_tb[\"feed_dt\"].str.slice(start=0, stop=16)\n",
    "    japonica_training_sensor_val_tb = japonica_training_sensor_val_tb[japonica_training_sensor_val_tb['tank_id']==tank]\n",
    "    japonica_validation_sensor_val_tb = japonica_validation_sensor_val_tb[japonica_validation_sensor_val_tb['tank_id']==tank]\n",
    "    japonica_training_sensor_val_tb[\"mea_dt\"] = japonica_training_sensor_val_tb[\"mea_dt\"].apply(str)\n",
    "    japonica_training_sensor_val_tb[\"mea_dt\"] = japonica_training_sensor_val_tb[\"mea_dt\"].str.slice(start=0, stop=16)\n",
    "    japonica_training_sensor_val_tb['mea_dt'] = pd.to_datetime(japonica_training_sensor_val_tb['mea_dt'], format='%Y-%m-%d %H:%M', errors='raise')\n",
    "    japonica_validation_sensor_val_tb[\"mea_dt\"] = japonica_validation_sensor_val_tb[\"mea_dt\"].apply(str)\n",
    "    japonica_validation_sensor_val_tb[\"mea_dt\"] = japonica_validation_sensor_val_tb[\"mea_dt\"].str.slice(start=0, stop=16)\n",
    "    japonica_validation_sensor_val_tb['mea_dt'] = pd.to_datetime(japonica_validation_sensor_val_tb['mea_dt'], format='%Y-%m-%d %H:%M', errors='raise')\n",
    "    japonica_training_sensor_val_tb['date'] = pd.to_datetime(japonica_training_sensor_val_tb['mea_dt']).dt.date\n",
    "    japonica_training_food_supply_tb['date'] = pd.to_datetime(japonica_training_food_supply_tb['feed_dt']).dt.date\n",
    "    common_dates = japonica_training_sensor_val_tb['date'].isin(japonica_training_food_supply_tb['date'])\n",
    "    japonica_training_sensor_val_tb = japonica_training_sensor_val_tb[common_dates]\n",
    "    japonica_training_sensor_val_tb = japonica_training_sensor_val_tb.drop('date', axis=1)\n",
    "    japonica_validation_sensor_val_tb['date'] = pd.to_datetime(japonica_validation_sensor_val_tb['mea_dt']).dt.date\n",
    "    japonica_validation_food_supply_tb['date'] = pd.to_datetime(japonica_validation_food_supply_tb['feed_dt']).dt.date\n",
    "    common_dates = japonica_validation_sensor_val_tb['date'].isin(japonica_validation_food_supply_tb['date'])\n",
    "    japonica_validation_sensor_val_tb = japonica_validation_sensor_val_tb[common_dates]\n",
    "    japonica_validation_sensor_val_tb = japonica_validation_sensor_val_tb.drop('date', axis=1)\n",
    "    japonica_training_sensor_val_tb.set_index('mea_dt', inplace=True)\n",
    "    japonica_training_sensor_val_tb = japonica_training_sensor_val_tb.resample('30min').mean()\n",
    "    japonica_training_sensor_val_tb = japonica_training_sensor_val_tb.reset_index()\n",
    "    japonica_training_sensor_val_tb = japonica_training_sensor_val_tb.dropna()\n",
    "    japonica_validation_sensor_val_tb.set_index('mea_dt', inplace=True)\n",
    "    japonica_validation_sensor_val_tb = japonica_validation_sensor_val_tb.resample('30min').mean()\n",
    "    japonica_validation_sensor_val_tb = japonica_validation_sensor_val_tb.reset_index()\n",
    "    japonica_validation_sensor_val_tb = japonica_validation_sensor_val_tb.dropna()\n",
    "    training_counts = japonica_training_sensor_val_tb.groupby(japonica_training_sensor_val_tb['mea_dt'].dt.date).size()\n",
    "    validation_counts = japonica_validation_sensor_val_tb.groupby(japonica_validation_sensor_val_tb['mea_dt'].dt.date).size()\n",
    "    to_delete = training_counts[training_counts != 48].index\n",
    "    japonica_training_sensor_val_tb = japonica_training_sensor_val_tb[~japonica_training_sensor_val_tb['mea_dt'].dt.date.isin(to_delete)]\n",
    "    to_delete = validation_counts[validation_counts != 48].index\n",
    "    japonica_validation_sensor_val_tb = japonica_validation_sensor_val_tb[~japonica_validation_sensor_val_tb['mea_dt'].dt.date.isin(to_delete)]\n",
    "    japonica_training_sensor_val_tb[\"mea_dt\"] = japonica_training_sensor_val_tb[\"mea_dt\"].dt.strftime('%Y-%m-%d %H:%M')\n",
    "    japonica_training_sensor_val_tb[\"mea_dt\"] = japonica_training_sensor_val_tb[\"mea_dt\"].str.slice(start=0, stop=16)\n",
    "    japonica_validation_sensor_val_tb[\"mea_dt\"] = japonica_validation_sensor_val_tb[\"mea_dt\"].dt.strftime('%Y-%m-%d %H:%M')\n",
    "    japonica_validation_sensor_val_tb[\"mea_dt\"] = japonica_validation_sensor_val_tb[\"mea_dt\"].str.slice(start=0, stop=16)\n",
    "    japonica_training_features = pd.merge(left = japonica_training_sensor_val_tb, right = japonica_training_food_supply_tb, how = \"left\", left_on = [\"farm_id\",\"tank_id\", \"mea_dt\"], right_on = [\"farm_id\",\"tank_id\", \"feed_dt\"])\n",
    "    japonica_validation_features = pd.merge(left = japonica_validation_sensor_val_tb, right = japonica_validation_food_supply_tb, how = \"left\", left_on = [\"farm_id\",\"tank_id\", \"mea_dt\"], right_on = [\"farm_id\",\"tank_id\", \"feed_dt\"])\n",
    "    japonica_training_features['mea_dt'] = pd.to_datetime(japonica_training_features['mea_dt'], format='%Y-%m-%d %H:%M', errors='raise')\n",
    "    japonica_validation_features['mea_dt'] = pd.to_datetime(japonica_validation_features['mea_dt'], format='%Y-%m-%d %H:%M', errors='raise')\n",
    "    feature_origin = ['tank_id','mea_dt', 'do_mg','do_temp', 'ph', 'orp', 'co2_mg', 'air_oxy', 'light_ma', 'feed_quantity', 'water_quantity']\n",
    "    japonica_training_features = japonica_training_features[feature_origin]\n",
    "    japonica_validation_features = japonica_validation_features[feature_origin]\n",
    "    japonica_training_features = japonica_training_features.fillna(0)\n",
    "    japonica_validation_features = japonica_validation_features.fillna(0)\n",
    "    japonica_training_features.set_index('mea_dt', inplace=True)\n",
    "    japonica_validation_features.set_index('mea_dt', inplace=True)\n",
    "    japonica_training_data = japonica_training_features.sort_index()\n",
    "    japonica_validation_data = japonica_validation_features.sort_index()\n",
    "    japonica_training_data = japonica_training_data.reset_index()\n",
    "    japonica_validation_data = japonica_validation_data.reset_index()\n",
    "    japonica_training_data = japonica_training_data[['do_mg','do_temp', 'ph', 'orp', 'co2_mg', 'feed_quantity', 'water_quantity']]\n",
    "    japonica_validation_data = japonica_validation_data[['do_mg','do_temp', 'ph', 'orp', 'co2_mg', 'feed_quantity', 'water_quantity']]\n",
    "    japonica_training = pd.concat([japonica_training, japonica_training_data])\n",
    "    japonica_validation = pd.concat([japonica_validation, japonica_validation_data])\n",
    "    japonica_training.reset_index(drop=True, inplace=True)\n",
    "    japonica_validation.reset_index(drop=True, inplace=True)"
   ]
  },
  {
   "cell_type": "code",
   "execution_count": 11,
   "metadata": {},
   "outputs": [],
   "source": [
    "train_scaler = MinMaxScaler()\n",
    "test_scaler = MinMaxScaler()\n",
    "train_standardized = train_scaler.fit_transform(japonica_training)\n",
    "japonica_training_minmax = pd.DataFrame(train_standardized, columns=japonica_training.columns, index=japonica_training.index)\n",
    "test_standardized = test_scaler.fit_transform(japonica_validation)\n",
    "japonica_validation_minmax = pd.DataFrame(test_standardized, columns=japonica_validation.columns, index=japonica_validation.index)\n",
    "japonica_training_features_X = japonica_training_minmax.copy()\n",
    "japonica_training_features_y = japonica_training_minmax.copy()\n",
    "japonica_validation_features_X = japonica_validation_minmax.copy()\n",
    "japonica_validation_features_y = japonica_validation_minmax.copy()"
   ]
  },
  {
   "cell_type": "code",
   "execution_count": 12,
   "metadata": {},
   "outputs": [
    {
     "name": "stdout",
     "output_type": "stream",
     "text": [
      "(10645, 6, 7)\n",
      "(10645, 6, 7)\n",
      "(10645, 6, 7)\n",
      "(10645, 6, 7)\n"
     ]
    }
   ],
   "source": [
    "japonica_training_features_X_chunks = []\n",
    "japonica_training_features_y_chunks = []\n",
    "japonica_validation_features_X_chunks = []\n",
    "japonica_validation_features_y_chunks = []\n",
    "for i in range(0, len(japonica_training_features_X) - 5):\n",
    "    japonica_training_features_X_chunks.append(np.array(japonica_training_features_X.iloc[i:i+6].values, dtype=np.float64))\n",
    "japonica_training_features_X_chunks = np.array(japonica_training_features_X_chunks, dtype=np.float64)\n",
    "for i in range(0, len(japonica_training_features_y) - 5):\n",
    "    japonica_training_features_y_chunks.append(np.array(japonica_training_features_y.iloc[i:i+6].values, dtype=np.float64))\n",
    "japonica_training_features_y_chunks = np.array(japonica_training_features_y_chunks, dtype=np.float64)\n",
    "for i in range(0, len(japonica_validation_features_X) - 5):\n",
    "    japonica_validation_features_X_chunks.append(np.array(japonica_validation_features_X.iloc[i:i+6].values, dtype=np.float64))\n",
    "japonica_validation_features_X_chunks = np.array(japonica_validation_features_X_chunks, dtype=np.float64)\n",
    "for i in range(0, len(japonica_validation_features_y) - 5):\n",
    "    japonica_validation_features_y_chunks.append(np.array(japonica_validation_features_y.iloc[i:i+6].values, dtype=np.float64))\n",
    "japonica_validation_features_y_chunks = np.array(japonica_validation_features_y_chunks, dtype=np.float64)\n",
    "japonica_training_features_X_chunks_crop = japonica_training_features_X_chunks[:-6]\n",
    "japonica_training_features_y_chunks_crop = japonica_training_features_y_chunks[6:]\n",
    "japonica_validation_features_X_chunks_crop = japonica_validation_features_X_chunks[:-6]\n",
    "japonica_validation_features_y_chunks_crop = japonica_validation_features_y_chunks[6:]"
   ]
  },
  {
   "cell_type": "code",
   "execution_count": 13,
   "metadata": {},
   "outputs": [
    {
     "name": "stderr",
     "output_type": "stream",
     "text": [
      "c:\\Users\\rladn\\anaconda3\\envs\\do\\Lib\\site-packages\\keras\\src\\layers\\rnn\\rnn.py:204: UserWarning: Do not pass an `input_shape`/`input_dim` argument to a layer. When using Sequential models, prefer using an `Input(shape)` object as the first layer in the model instead.\n",
      "  super().__init__(**kwargs)\n"
     ]
    },
    {
     "data": {
      "text/html": [
       "<pre style=\"white-space:pre;overflow-x:auto;line-height:normal;font-family:Menlo,'DejaVu Sans Mono',consolas,'Courier New',monospace\"><span style=\"font-weight: bold\">Model: \"sequential_1\"</span>\n",
       "</pre>\n"
      ],
      "text/plain": [
       "\u001b[1mModel: \"sequential_1\"\u001b[0m\n"
      ]
     },
     "metadata": {},
     "output_type": "display_data"
    },
    {
     "data": {
      "text/html": [
       "<pre style=\"white-space:pre;overflow-x:auto;line-height:normal;font-family:Menlo,'DejaVu Sans Mono',consolas,'Courier New',monospace\">┏━━━━━━━━━━━━━━━━━━━━━━━━━━━━━━━━━┳━━━━━━━━━━━━━━━━━━━━━━━━┳━━━━━━━━━━━━━━━┓\n",
       "┃<span style=\"font-weight: bold\"> Layer (type)                    </span>┃<span style=\"font-weight: bold\"> Output Shape           </span>┃<span style=\"font-weight: bold\">       Param # </span>┃\n",
       "┡━━━━━━━━━━━━━━━━━━━━━━━━━━━━━━━━━╇━━━━━━━━━━━━━━━━━━━━━━━━╇━━━━━━━━━━━━━━━┩\n",
       "│ lstm_3 (<span style=\"color: #0087ff; text-decoration-color: #0087ff\">LSTM</span>)                   │ (<span style=\"color: #00d7ff; text-decoration-color: #00d7ff\">None</span>, <span style=\"color: #00af00; text-decoration-color: #00af00\">6</span>, <span style=\"color: #00af00; text-decoration-color: #00af00\">128</span>)         │        <span style=\"color: #00af00; text-decoration-color: #00af00\">69,632</span> │\n",
       "├─────────────────────────────────┼────────────────────────┼───────────────┤\n",
       "│ lstm_4 (<span style=\"color: #0087ff; text-decoration-color: #0087ff\">LSTM</span>)                   │ (<span style=\"color: #00d7ff; text-decoration-color: #00d7ff\">None</span>, <span style=\"color: #00af00; text-decoration-color: #00af00\">6</span>, <span style=\"color: #00af00; text-decoration-color: #00af00\">64</span>)          │        <span style=\"color: #00af00; text-decoration-color: #00af00\">49,408</span> │\n",
       "├─────────────────────────────────┼────────────────────────┼───────────────┤\n",
       "│ lstm_5 (<span style=\"color: #0087ff; text-decoration-color: #0087ff\">LSTM</span>)                   │ (<span style=\"color: #00d7ff; text-decoration-color: #00d7ff\">None</span>, <span style=\"color: #00af00; text-decoration-color: #00af00\">6</span>, <span style=\"color: #00af00; text-decoration-color: #00af00\">32</span>)          │        <span style=\"color: #00af00; text-decoration-color: #00af00\">12,416</span> │\n",
       "├─────────────────────────────────┼────────────────────────┼───────────────┤\n",
       "│ time_distributed_1              │ (<span style=\"color: #00d7ff; text-decoration-color: #00d7ff\">None</span>, <span style=\"color: #00af00; text-decoration-color: #00af00\">6</span>, <span style=\"color: #00af00; text-decoration-color: #00af00\">7</span>)           │           <span style=\"color: #00af00; text-decoration-color: #00af00\">231</span> │\n",
       "│ (<span style=\"color: #0087ff; text-decoration-color: #0087ff\">TimeDistributed</span>)               │                        │               │\n",
       "└─────────────────────────────────┴────────────────────────┴───────────────┘\n",
       "</pre>\n"
      ],
      "text/plain": [
       "┏━━━━━━━━━━━━━━━━━━━━━━━━━━━━━━━━━┳━━━━━━━━━━━━━━━━━━━━━━━━┳━━━━━━━━━━━━━━━┓\n",
       "┃\u001b[1m \u001b[0m\u001b[1mLayer (type)                   \u001b[0m\u001b[1m \u001b[0m┃\u001b[1m \u001b[0m\u001b[1mOutput Shape          \u001b[0m\u001b[1m \u001b[0m┃\u001b[1m \u001b[0m\u001b[1m      Param #\u001b[0m\u001b[1m \u001b[0m┃\n",
       "┡━━━━━━━━━━━━━━━━━━━━━━━━━━━━━━━━━╇━━━━━━━━━━━━━━━━━━━━━━━━╇━━━━━━━━━━━━━━━┩\n",
       "│ lstm_3 (\u001b[38;5;33mLSTM\u001b[0m)                   │ (\u001b[38;5;45mNone\u001b[0m, \u001b[38;5;34m6\u001b[0m, \u001b[38;5;34m128\u001b[0m)         │        \u001b[38;5;34m69,632\u001b[0m │\n",
       "├─────────────────────────────────┼────────────────────────┼───────────────┤\n",
       "│ lstm_4 (\u001b[38;5;33mLSTM\u001b[0m)                   │ (\u001b[38;5;45mNone\u001b[0m, \u001b[38;5;34m6\u001b[0m, \u001b[38;5;34m64\u001b[0m)          │        \u001b[38;5;34m49,408\u001b[0m │\n",
       "├─────────────────────────────────┼────────────────────────┼───────────────┤\n",
       "│ lstm_5 (\u001b[38;5;33mLSTM\u001b[0m)                   │ (\u001b[38;5;45mNone\u001b[0m, \u001b[38;5;34m6\u001b[0m, \u001b[38;5;34m32\u001b[0m)          │        \u001b[38;5;34m12,416\u001b[0m │\n",
       "├─────────────────────────────────┼────────────────────────┼───────────────┤\n",
       "│ time_distributed_1              │ (\u001b[38;5;45mNone\u001b[0m, \u001b[38;5;34m6\u001b[0m, \u001b[38;5;34m7\u001b[0m)           │           \u001b[38;5;34m231\u001b[0m │\n",
       "│ (\u001b[38;5;33mTimeDistributed\u001b[0m)               │                        │               │\n",
       "└─────────────────────────────────┴────────────────────────┴───────────────┘\n"
      ]
     },
     "metadata": {},
     "output_type": "display_data"
    },
    {
     "data": {
      "text/html": [
       "<pre style=\"white-space:pre;overflow-x:auto;line-height:normal;font-family:Menlo,'DejaVu Sans Mono',consolas,'Courier New',monospace\"><span style=\"font-weight: bold\"> Total params: </span><span style=\"color: #00af00; text-decoration-color: #00af00\">131,687</span> (514.40 KB)\n",
       "</pre>\n"
      ],
      "text/plain": [
       "\u001b[1m Total params: \u001b[0m\u001b[38;5;34m131,687\u001b[0m (514.40 KB)\n"
      ]
     },
     "metadata": {},
     "output_type": "display_data"
    },
    {
     "data": {
      "text/html": [
       "<pre style=\"white-space:pre;overflow-x:auto;line-height:normal;font-family:Menlo,'DejaVu Sans Mono',consolas,'Courier New',monospace\"><span style=\"font-weight: bold\"> Trainable params: </span><span style=\"color: #00af00; text-decoration-color: #00af00\">131,687</span> (514.40 KB)\n",
       "</pre>\n"
      ],
      "text/plain": [
       "\u001b[1m Trainable params: \u001b[0m\u001b[38;5;34m131,687\u001b[0m (514.40 KB)\n"
      ]
     },
     "metadata": {},
     "output_type": "display_data"
    },
    {
     "data": {
      "text/html": [
       "<pre style=\"white-space:pre;overflow-x:auto;line-height:normal;font-family:Menlo,'DejaVu Sans Mono',consolas,'Courier New',monospace\"><span style=\"font-weight: bold\"> Non-trainable params: </span><span style=\"color: #00af00; text-decoration-color: #00af00\">0</span> (0.00 B)\n",
       "</pre>\n"
      ],
      "text/plain": [
       "\u001b[1m Non-trainable params: \u001b[0m\u001b[38;5;34m0\u001b[0m (0.00 B)\n"
      ]
     },
     "metadata": {},
     "output_type": "display_data"
    },
    {
     "name": "stdout",
     "output_type": "stream",
     "text": [
      "Epoch 1/1000\n",
      "\u001b[1m1775/1775\u001b[0m \u001b[32m━━━━━━━━━━━━━━━━━━━━\u001b[0m\u001b[37m\u001b[0m \u001b[1m17s\u001b[0m 7ms/step - loss: 0.0132 - mae: 0.0892 - mse: 0.0264 - val_loss: 0.0044 - val_mae: 0.0455 - val_mse: 0.0088 - learning_rate: 0.0010\n",
      "Epoch 2/1000\n",
      "\u001b[1m1775/1775\u001b[0m \u001b[32m━━━━━━━━━━━━━━━━━━━━\u001b[0m\u001b[37m\u001b[0m \u001b[1m13s\u001b[0m 7ms/step - loss: 0.0044 - mae: 0.0436 - mse: 0.0087 - val_loss: 0.0042 - val_mae: 0.0368 - val_mse: 0.0083 - learning_rate: 0.0010\n",
      "Epoch 3/1000\n",
      "\u001b[1m1775/1775\u001b[0m \u001b[32m━━━━━━━━━━━━━━━━━━━━\u001b[0m\u001b[37m\u001b[0m \u001b[1m13s\u001b[0m 8ms/step - loss: 0.0042 - mae: 0.0404 - mse: 0.0084 - val_loss: 0.0042 - val_mae: 0.0395 - val_mse: 0.0083 - learning_rate: 0.0010\n",
      "Epoch 4/1000\n",
      "\u001b[1m1775/1775\u001b[0m \u001b[32m━━━━━━━━━━━━━━━━━━━━\u001b[0m\u001b[37m\u001b[0m \u001b[1m13s\u001b[0m 7ms/step - loss: 0.0041 - mae: 0.0394 - mse: 0.0082 - val_loss: 0.0041 - val_mae: 0.0411 - val_mse: 0.0082 - learning_rate: 0.0010\n",
      "Epoch 5/1000\n",
      "\u001b[1m1775/1775\u001b[0m \u001b[32m━━━━━━━━━━━━━━━━━━━━\u001b[0m\u001b[37m\u001b[0m \u001b[1m13s\u001b[0m 7ms/step - loss: 0.0039 - mae: 0.0382 - mse: 0.0079 - val_loss: 0.0040 - val_mae: 0.0385 - val_mse: 0.0079 - learning_rate: 0.0010\n",
      "Epoch 6/1000\n",
      "\u001b[1m1775/1775\u001b[0m \u001b[32m━━━━━━━━━━━━━━━━━━━━\u001b[0m\u001b[37m\u001b[0m \u001b[1m13s\u001b[0m 7ms/step - loss: 0.0040 - mae: 0.0377 - mse: 0.0079 - val_loss: 0.0040 - val_mae: 0.0370 - val_mse: 0.0079 - learning_rate: 0.0010\n",
      "Epoch 7/1000\n",
      "\u001b[1m1775/1775\u001b[0m \u001b[32m━━━━━━━━━━━━━━━━━━━━\u001b[0m\u001b[37m\u001b[0m \u001b[1m13s\u001b[0m 7ms/step - loss: 0.0039 - mae: 0.0371 - mse: 0.0077 - val_loss: 0.0039 - val_mae: 0.0364 - val_mse: 0.0078 - learning_rate: 0.0010\n",
      "Epoch 8/1000\n",
      "\u001b[1m1775/1775\u001b[0m \u001b[32m━━━━━━━━━━━━━━━━━━━━\u001b[0m\u001b[37m\u001b[0m \u001b[1m14s\u001b[0m 8ms/step - loss: 0.0038 - mae: 0.0365 - mse: 0.0077 - val_loss: 0.0038 - val_mae: 0.0367 - val_mse: 0.0076 - learning_rate: 0.0010\n",
      "Epoch 9/1000\n",
      "\u001b[1m1775/1775\u001b[0m \u001b[32m━━━━━━━━━━━━━━━━━━━━\u001b[0m\u001b[37m\u001b[0m \u001b[1m15s\u001b[0m 8ms/step - loss: 0.0039 - mae: 0.0367 - mse: 0.0077 - val_loss: 0.0039 - val_mae: 0.0426 - val_mse: 0.0078 - learning_rate: 0.0010\n",
      "Epoch 10/1000\n",
      "\u001b[1m1775/1775\u001b[0m \u001b[32m━━━━━━━━━━━━━━━━━━━━\u001b[0m\u001b[37m\u001b[0m \u001b[1m13s\u001b[0m 8ms/step - loss: 0.0038 - mae: 0.0364 - mse: 0.0076 - val_loss: 0.0038 - val_mae: 0.0382 - val_mse: 0.0076 - learning_rate: 0.0010\n",
      "Epoch 11/1000\n",
      "\u001b[1m1775/1775\u001b[0m \u001b[32m━━━━━━━━━━━━━━━━━━━━\u001b[0m\u001b[37m\u001b[0m \u001b[1m14s\u001b[0m 8ms/step - loss: 0.0037 - mae: 0.0359 - mse: 0.0075 - val_loss: 0.0037 - val_mae: 0.0353 - val_mse: 0.0074 - learning_rate: 0.0010\n",
      "Epoch 12/1000\n",
      "\u001b[1m1775/1775\u001b[0m \u001b[32m━━━━━━━━━━━━━━━━━━━━\u001b[0m\u001b[37m\u001b[0m \u001b[1m14s\u001b[0m 8ms/step - loss: 0.0038 - mae: 0.0365 - mse: 0.0077 - val_loss: 0.0037 - val_mae: 0.0350 - val_mse: 0.0074 - learning_rate: 0.0010\n",
      "Epoch 13/1000\n",
      "\u001b[1m1775/1775\u001b[0m \u001b[32m━━━━━━━━━━━━━━━━━━━━\u001b[0m\u001b[37m\u001b[0m \u001b[1m14s\u001b[0m 8ms/step - loss: 0.0037 - mae: 0.0359 - mse: 0.0074 - val_loss: 0.0037 - val_mae: 0.0392 - val_mse: 0.0074 - learning_rate: 0.0010\n",
      "Epoch 14/1000\n",
      "\u001b[1m1774/1775\u001b[0m \u001b[32m━━━━━━━━━━━━━━━━━━━\u001b[0m\u001b[37m━\u001b[0m \u001b[1m0s\u001b[0m 6ms/step - loss: 0.0037 - mae: 0.0357 - mse: 0.0075\n",
      "Epoch 14: ReduceLROnPlateau reducing learning rate to 0.00010000000474974513.\n",
      "\u001b[1m1775/1775\u001b[0m \u001b[32m━━━━━━━━━━━━━━━━━━━━\u001b[0m\u001b[37m\u001b[0m \u001b[1m14s\u001b[0m 8ms/step - loss: 0.0037 - mae: 0.0357 - mse: 0.0075 - val_loss: 0.0036 - val_mae: 0.0353 - val_mse: 0.0072 - learning_rate: 0.0010\n",
      "Epoch 15/1000\n",
      "\u001b[1m1775/1775\u001b[0m \u001b[32m━━━━━━━━━━━━━━━━━━━━\u001b[0m\u001b[37m\u001b[0m \u001b[1m14s\u001b[0m 8ms/step - loss: 0.0036 - mae: 0.0336 - mse: 0.0072 - val_loss: 0.0035 - val_mae: 0.0333 - val_mse: 0.0070 - learning_rate: 1.0000e-04\n",
      "Epoch 16/1000\n",
      "\u001b[1m1775/1775\u001b[0m \u001b[32m━━━━━━━━━━━━━━━━━━━━\u001b[0m\u001b[37m\u001b[0m \u001b[1m13s\u001b[0m 7ms/step - loss: 0.0035 - mae: 0.0330 - mse: 0.0070 - val_loss: 0.0035 - val_mae: 0.0320 - val_mse: 0.0070 - learning_rate: 1.0000e-04\n",
      "Epoch 17/1000\n",
      "\u001b[1m1775/1775\u001b[0m \u001b[32m━━━━━━━━━━━━━━━━━━━━\u001b[0m\u001b[37m\u001b[0m \u001b[1m13s\u001b[0m 7ms/step - loss: 0.0035 - mae: 0.0331 - mse: 0.0071 - val_loss: 0.0035 - val_mae: 0.0328 - val_mse: 0.0069 - learning_rate: 1.0000e-04\n",
      "Epoch 18/1000\n",
      "\u001b[1m1773/1775\u001b[0m \u001b[32m━━━━━━━━━━━━━━━━━━━\u001b[0m\u001b[37m━\u001b[0m \u001b[1m0s\u001b[0m 6ms/step - loss: 0.0035 - mae: 0.0330 - mse: 0.0070\n",
      "Epoch 18: ReduceLROnPlateau reducing learning rate to 1.0000000474974514e-05.\n",
      "\u001b[1m1775/1775\u001b[0m \u001b[32m━━━━━━━━━━━━━━━━━━━━\u001b[0m\u001b[37m\u001b[0m \u001b[1m13s\u001b[0m 8ms/step - loss: 0.0035 - mae: 0.0330 - mse: 0.0070 - val_loss: 0.0035 - val_mae: 0.0330 - val_mse: 0.0069 - learning_rate: 1.0000e-04\n",
      "Epoch 19/1000\n",
      "\u001b[1m1775/1775\u001b[0m \u001b[32m━━━━━━━━━━━━━━━━━━━━\u001b[0m\u001b[37m\u001b[0m \u001b[1m14s\u001b[0m 8ms/step - loss: 0.0034 - mae: 0.0327 - mse: 0.0069 - val_loss: 0.0035 - val_mae: 0.0327 - val_mse: 0.0069 - learning_rate: 1.0000e-05\n",
      "Epoch 20/1000\n",
      "\u001b[1m1775/1775\u001b[0m \u001b[32m━━━━━━━━━━━━━━━━━━━━\u001b[0m\u001b[37m\u001b[0m \u001b[1m14s\u001b[0m 8ms/step - loss: 0.0035 - mae: 0.0329 - mse: 0.0070 - val_loss: 0.0035 - val_mae: 0.0326 - val_mse: 0.0069 - learning_rate: 1.0000e-05\n",
      "Epoch 21/1000\n",
      "\u001b[1m1769/1775\u001b[0m \u001b[32m━━━━━━━━━━━━━━━━━━━\u001b[0m\u001b[37m━\u001b[0m \u001b[1m0s\u001b[0m 5ms/step - loss: 0.0034 - mae: 0.0323 - mse: 0.0067\n",
      "Epoch 21: ReduceLROnPlateau reducing learning rate to 1.0000000656873453e-06.\n",
      "\u001b[1m1775/1775\u001b[0m \u001b[32m━━━━━━━━━━━━━━━━━━━━\u001b[0m\u001b[37m\u001b[0m \u001b[1m13s\u001b[0m 7ms/step - loss: 0.0034 - mae: 0.0323 - mse: 0.0067 - val_loss: 0.0035 - val_mae: 0.0327 - val_mse: 0.0069 - learning_rate: 1.0000e-05\n",
      "Epoch 22/1000\n",
      "\u001b[1m1775/1775\u001b[0m \u001b[32m━━━━━━━━━━━━━━━━━━━━\u001b[0m\u001b[37m\u001b[0m \u001b[1m13s\u001b[0m 8ms/step - loss: 0.0035 - mae: 0.0331 - mse: 0.0070 - val_loss: 0.0035 - val_mae: 0.0326 - val_mse: 0.0069 - learning_rate: 1.0000e-06\n",
      "Epoch 23/1000\n",
      "\u001b[1m1775/1775\u001b[0m \u001b[32m━━━━━━━━━━━━━━━━━━━━\u001b[0m\u001b[37m\u001b[0m \u001b[1m13s\u001b[0m 7ms/step - loss: 0.0033 - mae: 0.0322 - mse: 0.0067 - val_loss: 0.0035 - val_mae: 0.0326 - val_mse: 0.0069 - learning_rate: 1.0000e-06\n",
      "Epoch 24/1000\n",
      "\u001b[1m1772/1775\u001b[0m \u001b[32m━━━━━━━━━━━━━━━━━━━\u001b[0m\u001b[37m━\u001b[0m \u001b[1m0s\u001b[0m 5ms/step - loss: 0.0034 - mae: 0.0326 - mse: 0.0069\n",
      "Epoch 24: ReduceLROnPlateau reducing learning rate to 1.0000001111620805e-07.\n",
      "\u001b[1m1775/1775\u001b[0m \u001b[32m━━━━━━━━━━━━━━━━━━━━\u001b[0m\u001b[37m\u001b[0m \u001b[1m13s\u001b[0m 7ms/step - loss: 0.0034 - mae: 0.0326 - mse: 0.0069 - val_loss: 0.0035 - val_mae: 0.0326 - val_mse: 0.0069 - learning_rate: 1.0000e-06\n",
      "Epoch 25/1000\n",
      "\u001b[1m1775/1775\u001b[0m \u001b[32m━━━━━━━━━━━━━━━━━━━━\u001b[0m\u001b[37m\u001b[0m \u001b[1m13s\u001b[0m 8ms/step - loss: 0.0036 - mae: 0.0329 - mse: 0.0071 - val_loss: 0.0035 - val_mae: 0.0326 - val_mse: 0.0069 - learning_rate: 1.0000e-07\n",
      "Epoch 26/1000\n",
      "\u001b[1m1775/1775\u001b[0m \u001b[32m━━━━━━━━━━━━━━━━━━━━\u001b[0m\u001b[37m\u001b[0m \u001b[1m13s\u001b[0m 7ms/step - loss: 0.0034 - mae: 0.0325 - mse: 0.0068 - val_loss: 0.0035 - val_mae: 0.0326 - val_mse: 0.0069 - learning_rate: 1.0000e-07\n",
      "Epoch 27/1000\n",
      "\u001b[1m1771/1775\u001b[0m \u001b[32m━━━━━━━━━━━━━━━━━━━\u001b[0m\u001b[37m━\u001b[0m \u001b[1m0s\u001b[0m 6ms/step - loss: 0.0035 - mae: 0.0327 - mse: 0.0069\n",
      "Epoch 27: ReduceLROnPlateau reducing learning rate to 1.000000082740371e-08.\n",
      "\u001b[1m1775/1775\u001b[0m \u001b[32m━━━━━━━━━━━━━━━━━━━━\u001b[0m\u001b[37m\u001b[0m \u001b[1m13s\u001b[0m 7ms/step - loss: 0.0035 - mae: 0.0327 - mse: 0.0069 - val_loss: 0.0035 - val_mae: 0.0326 - val_mse: 0.0069 - learning_rate: 1.0000e-07\n",
      "Epoch 28/1000\n",
      "\u001b[1m1775/1775\u001b[0m \u001b[32m━━━━━━━━━━━━━━━━━━━━\u001b[0m\u001b[37m\u001b[0m \u001b[1m13s\u001b[0m 7ms/step - loss: 0.0034 - mae: 0.0325 - mse: 0.0069 - val_loss: 0.0035 - val_mae: 0.0326 - val_mse: 0.0069 - learning_rate: 1.0000e-08\n",
      "Epoch 29/1000\n",
      "\u001b[1m1775/1775\u001b[0m \u001b[32m━━━━━━━━━━━━━━━━━━━━\u001b[0m\u001b[37m\u001b[0m \u001b[1m13s\u001b[0m 7ms/step - loss: 0.0034 - mae: 0.0325 - mse: 0.0069 - val_loss: 0.0035 - val_mae: 0.0326 - val_mse: 0.0069 - learning_rate: 1.0000e-08\n",
      "Epoch 30/1000\n",
      "\u001b[1m1775/1775\u001b[0m \u001b[32m━━━━━━━━━━━━━━━━━━━━\u001b[0m\u001b[37m\u001b[0m \u001b[1m0s\u001b[0m 5ms/step - loss: 0.0035 - mae: 0.0328 - mse: 0.0070\n",
      "Epoch 30: ReduceLROnPlateau reducing learning rate to 1.000000082740371e-09.\n",
      "\u001b[1m1775/1775\u001b[0m \u001b[32m━━━━━━━━━━━━━━━━━━━━\u001b[0m\u001b[37m\u001b[0m \u001b[1m13s\u001b[0m 7ms/step - loss: 0.0035 - mae: 0.0328 - mse: 0.0070 - val_loss: 0.0035 - val_mae: 0.0326 - val_mse: 0.0069 - learning_rate: 1.0000e-08\n",
      "Epoch 31/1000\n",
      "\u001b[1m1775/1775\u001b[0m \u001b[32m━━━━━━━━━━━━━━━━━━━━\u001b[0m\u001b[37m\u001b[0m \u001b[1m13s\u001b[0m 7ms/step - loss: 0.0034 - mae: 0.0324 - mse: 0.0068 - val_loss: 0.0035 - val_mae: 0.0326 - val_mse: 0.0069 - learning_rate: 1.0000e-09\n",
      "Epoch 32/1000\n",
      "\u001b[1m1775/1775\u001b[0m \u001b[32m━━━━━━━━━━━━━━━━━━━━\u001b[0m\u001b[37m\u001b[0m \u001b[1m13s\u001b[0m 7ms/step - loss: 0.0035 - mae: 0.0330 - mse: 0.0070 - val_loss: 0.0035 - val_mae: 0.0326 - val_mse: 0.0069 - learning_rate: 1.0000e-09\n",
      "Epoch 33/1000\n",
      "\u001b[1m1771/1775\u001b[0m \u001b[32m━━━━━━━━━━━━━━━━━━━\u001b[0m\u001b[37m━\u001b[0m \u001b[1m0s\u001b[0m 5ms/step - loss: 0.0035 - mae: 0.0330 - mse: 0.0071\n",
      "Epoch 33: ReduceLROnPlateau reducing learning rate to 1.000000082740371e-10.\n",
      "\u001b[1m1775/1775\u001b[0m \u001b[32m━━━━━━━━━━━━━━━━━━━━\u001b[0m\u001b[37m\u001b[0m \u001b[1m13s\u001b[0m 7ms/step - loss: 0.0035 - mae: 0.0330 - mse: 0.0071 - val_loss: 0.0035 - val_mae: 0.0326 - val_mse: 0.0069 - learning_rate: 1.0000e-09\n",
      "Epoch 34/1000\n",
      "\u001b[1m1775/1775\u001b[0m \u001b[32m━━━━━━━━━━━━━━━━━━━━\u001b[0m\u001b[37m\u001b[0m \u001b[1m13s\u001b[0m 7ms/step - loss: 0.0034 - mae: 0.0325 - mse: 0.0068 - val_loss: 0.0035 - val_mae: 0.0326 - val_mse: 0.0069 - learning_rate: 1.0000e-10\n",
      "Epoch 35/1000\n",
      "\u001b[1m1775/1775\u001b[0m \u001b[32m━━━━━━━━━━━━━━━━━━━━\u001b[0m\u001b[37m\u001b[0m \u001b[1m13s\u001b[0m 7ms/step - loss: 0.0034 - mae: 0.0325 - mse: 0.0069 - val_loss: 0.0035 - val_mae: 0.0326 - val_mse: 0.0069 - learning_rate: 1.0000e-10\n",
      "Epoch 35: early stopping\n"
     ]
    }
   ],
   "source": [
    "huber_loss = Huber(delta=1.0)\n",
    "model = Sequential()\n",
    "model.add(LSTM(128, input_shape=(6, 7), return_sequences=True))\n",
    "model.add(LSTM(64, return_sequences=True))\n",
    "model.add(LSTM(32, return_sequences=True))\n",
    "model.add(TimeDistributed(Dense(7, activation='linear')))\n",
    "model.summary()\n",
    "model.compile(optimizer='adam', loss=huber_loss, metrics=['mse','mae'])\n",
    "checkpoint = ModelCheckpoint(model_name + '_best.keras', monitor='val_loss', save_best_only=True)\n",
    "early_stop = EarlyStopping(monitor='val_loss', patience=5, verbose=1)\n",
    "reduce_lr = ReduceLROnPlateau(monitor='val_loss', factor=0.1, patience=3, verbose=1)\n",
    "hist = model.fit(japonica_training_features_X_chunks_crop, japonica_training_features_y_chunks_crop, epochs = 1000, batch_size = 6, validation_data=(japonica_validation_features_X_chunks_crop, japonica_validation_features_y_chunks_crop), callbacks=[checkpoint, early_stop, reduce_lr])\n",
    "model.save(model_name+'.keras')"
   ]
  }
 ],
 "metadata": {
  "kernelspec": {
   "display_name": "doRegressor",
   "language": "python",
   "name": "python3"
  },
  "language_info": {
   "codemirror_mode": {
    "name": "ipython",
    "version": 3
   },
   "file_extension": ".py",
   "mimetype": "text/x-python",
   "name": "python",
   "nbconvert_exporter": "python",
   "pygments_lexer": "ipython3",
   "version": "3.12.2"
  }
 },
 "nbformat": 4,
 "nbformat_minor": 2
}
